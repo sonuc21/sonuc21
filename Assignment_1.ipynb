{
  "nbformat": 4,
  "nbformat_minor": 0,
  "metadata": {
    "colab": {
      "name": "Assignment 1.ipynb",
      "provenance": []
    },
    "kernelspec": {
      "name": "python3",
      "display_name": "Python 3"
    }
  },
  "cells": [
    {
      "cell_type": "markdown",
      "metadata": {
        "id": "HmqhdkR6YcoS",
        "colab_type": "text"
      },
      "source": [
        "1. Write a function that inputs a number and prints the multiplication table of that number\n"
      ]
    },
    {
      "cell_type": "code",
      "metadata": {
        "id": "SgCJXP_aYbpz",
        "colab_type": "code",
        "outputId": "9ebc9ba1-bef4-4d4a-f1c9-19654bc68bb6",
        "colab": {
          "base_uri": "https://localhost:8080/",
          "height": 51
        }
      },
      "source": [
        "num=int(input(\"Enter any number: \"))\n",
        "table=[i*num for i in range(1,11,1)]\n",
        "print(\"Table of {} is {} \".format(num,table))"
      ],
      "execution_count": 1,
      "outputs": [
        {
          "output_type": "stream",
          "text": [
            "Enter any number: 17\n",
            "Table of 17 is [17, 34, 51, 68, 85, 102, 119, 136, 153, 170] \n"
          ],
          "name": "stdout"
        }
      ]
    },
    {
      "cell_type": "markdown",
      "metadata": {
        "id": "JbHy5bt5aDOI",
        "colab_type": "text"
      },
      "source": [
        "2. Write a program to print twin primes less than 1000. If two consecutive odd numbers are\n",
        "both prime then they are known as twin primes"
      ]
    },
    {
      "cell_type": "code",
      "metadata": {
        "id": "6-b0v0LzaKuN",
        "colab_type": "code",
        "outputId": "e50e66aa-7e8f-4a99-829e-b8af3b486e90",
        "colab": {
          "base_uri": "https://localhost:8080/",
          "height": 54
        }
      },
      "source": [
        "import math \n",
        "arr=[1]*1000\n",
        "arr[0]=0\n",
        "arr[1]=0\n",
        "# Here I am using Sieve of Eratosthenes\n",
        "for i in range(int(math.sqrt(1000))):\n",
        "  if arr[i]==1:\n",
        "    j=2\n",
        "    while i*j < 1000:\n",
        "      arr[i*j]=0\n",
        "      j=j+1\n",
        "out=[]\n",
        "for i in range(2,1000,1):\n",
        "  if i%2!=0:\n",
        "    if arr[i]==1 and arr[i+2] : \n",
        "      out.append(i)\n",
        "      out.append(i+2)\n",
        "print(\"Twin primes less than 1000 is {}\".format(out))\n"
      ],
      "execution_count": 2,
      "outputs": [
        {
          "output_type": "stream",
          "text": [
            "Twin primes less than 1000 is [3, 5, 5, 7, 11, 13, 17, 19, 29, 31, 41, 43, 59, 61, 71, 73, 101, 103, 107, 109, 137, 139, 149, 151, 179, 181, 191, 193, 197, 199, 227, 229, 239, 241, 269, 271, 281, 283, 311, 313, 347, 349, 419, 421, 431, 433, 461, 463, 521, 523, 569, 571, 599, 601, 617, 619, 641, 643, 659, 661, 809, 811, 821, 823, 827, 829, 857, 859, 881, 883]\n"
          ],
          "name": "stdout"
        }
      ]
    },
    {
      "cell_type": "markdown",
      "metadata": {
        "id": "zYrcliXqgYHz",
        "colab_type": "text"
      },
      "source": [
        "3. Write a program to find out the prime factors of a number. Example: prime factors of 56 -\n",
        "2, 2, 2, 7"
      ]
    },
    {
      "cell_type": "code",
      "metadata": {
        "id": "GYTkL0F2gdMm",
        "colab_type": "code",
        "outputId": "92f027d1-c780-4fca-9007-3908d062ac1f",
        "colab": {
          "base_uri": "https://localhost:8080/",
          "height": 51
        }
      },
      "source": [
        "num = int(input(\"Enter the number whoes prime factorization you want\"))\n",
        "temp=num\n",
        "l1=[]\n",
        "for i in range(2,temp):\n",
        "  if temp%i==0:\n",
        "    while temp%i==0:\n",
        "      l1.append(i)\n",
        "      temp//=i\n",
        "print(\"Prime factorization of {} is {}\".format(num,l1))"
      ],
      "execution_count": 3,
      "outputs": [
        {
          "output_type": "stream",
          "text": [
            "Enter the number whoes prime factorization you want56\n",
            "Prime factorization of 56 is [2, 2, 2, 7]\n"
          ],
          "name": "stdout"
        }
      ]
    },
    {
      "cell_type": "markdown",
      "metadata": {
        "id": "NhWwmpxQgeYF",
        "colab_type": "text"
      },
      "source": [
        "4. Write a program to implement these formulae of permutations and combinations.\n",
        "Number of permutations of n objects taken r at a time: p(n, r) = n! / (n-r)!. Number of\n",
        "combinations of n objects taken r at a time is: c(n, r) = n! / (r!*(n-r)!) = p(n,r) / r"
      ]
    },
    {
      "cell_type": "code",
      "metadata": {
        "id": "yrXlCoyogi0C",
        "colab_type": "code",
        "colab": {}
      },
      "source": [
        "def fact(n):\n",
        "  \"\"\"This function return factoriol of given number\"\"\"\n",
        "  if n<=1:\n",
        "    return 1\n",
        "  else:\n",
        "    return n*fact(n-1)"
      ],
      "execution_count": 0,
      "outputs": []
    },
    {
      "cell_type": "code",
      "metadata": {
        "id": "9oKuWrF74OoB",
        "colab_type": "code",
        "outputId": "eec152ec-f0d2-49fd-9252-5e4fa7261b03",
        "colab": {
          "base_uri": "https://localhost:8080/",
          "height": 85
        }
      },
      "source": [
        "n=int(input(\"Enter the value of n:\" ))\n",
        "r=int(input(\"Enter the value of r:\"))\n",
        "# Calculation of p(n, r) = n! / (n-r)!.\n",
        "result=fact(n)/fact(n-r)\n",
        "print(\"The result of p(n, r) is {} \".format(result))\n",
        "# Calculation of c(n, r) = n! / (r!*(n-r)!)\n",
        "print(\"The result of c(n, r) is {} \".format(result/r))"
      ],
      "execution_count": 5,
      "outputs": [
        {
          "output_type": "stream",
          "text": [
            "Enter the value of n:5\n",
            "Enter the value of r:4\n",
            "The result of p(n, r) is 120.0 \n",
            "The result of c(n, r) is 30.0 \n"
          ],
          "name": "stdout"
        }
      ]
    },
    {
      "cell_type": "markdown",
      "metadata": {
        "id": "9_C9UAdRgmD3",
        "colab_type": "text"
      },
      "source": [
        "5. Write a function that converts a decimal number to binary number"
      ]
    },
    {
      "cell_type": "code",
      "metadata": {
        "id": "lW2oSbpZgoBP",
        "colab_type": "code",
        "outputId": "2183afe5-bd43-483e-c099-da89df5b1291",
        "colab": {
          "base_uri": "https://localhost:8080/",
          "height": 51
        }
      },
      "source": [
        "n = int(input(\"Enter the any number whoes binary conversion you want : \"))\n",
        "l1=[]\n",
        "temp=n\n",
        "while n != 0:\n",
        "  l1.append(n%2)\n",
        "  n=n//2\n",
        "l1.reverse()\n",
        "print(\"Decimal to Binary conversion of {} is{}: \".format(temp,l1))\n"
      ],
      "execution_count": 6,
      "outputs": [
        {
          "output_type": "stream",
          "text": [
            "Enter the any number whoes binary conversion you want : 23\n",
            "Decimal to Binary conversion of 23 is[1, 0, 1, 1, 1]: \n"
          ],
          "name": "stdout"
        }
      ]
    },
    {
      "cell_type": "markdown",
      "metadata": {
        "id": "u9bfhzh6gwOg",
        "colab_type": "text"
      },
      "source": [
        "6. Write a function cubesum() that accepts an integer and returns the sum of the cubes of\n",
        "individual digits of that number. Use this function to make functions PrintArmstrong() and\n",
        "isArmstrong() to print Armstrong numbers and to find whether is an Armstrong number"
      ]
    },
    {
      "cell_type": "code",
      "metadata": {
        "id": "eHRGU3MsgxZu",
        "colab_type": "code",
        "colab": {}
      },
      "source": [
        "# function cubesomme() \n",
        "def cubesum(n):\n",
        "  sum=0\n",
        "  while n != 0:\n",
        "    sum+=(n%10)**3\n",
        "    n=n//10\n",
        "  return sum\n",
        "#function isArmstrong()\n",
        "def isArmstrong(n):\n",
        "  if(n==cubesum(n)):\n",
        "    return True\n",
        "  else:\n",
        "    return False\n"
      ],
      "execution_count": 0,
      "outputs": []
    },
    {
      "cell_type": "code",
      "metadata": {
        "id": "A94_gnoe7yBK",
        "colab_type": "code",
        "outputId": "b3ee82fa-1577-4ea9-84e0-21293b19c272",
        "colab": {
          "base_uri": "https://localhost:8080/",
          "height": 51
        }
      },
      "source": [
        "#function printArmstrong()\n",
        "num=int(input(\"Enter your number\"))\n",
        "if(isArmstrong(num)):\n",
        "  print(\"The number {} is  Armstrong\".format(num)) \n",
        "else:\n",
        "  print(\"The number {} is  not an Armstrong\".format(num))"
      ],
      "execution_count": 8,
      "outputs": [
        {
          "output_type": "stream",
          "text": [
            "Enter your number153\n",
            "The number 153 is  Armstrong\n"
          ],
          "name": "stdout"
        }
      ]
    },
    {
      "cell_type": "markdown",
      "metadata": {
        "id": "GqRllnzJgxqi",
        "colab_type": "text"
      },
      "source": [
        "7. Write a function prodDigits() that inputs a number and returns the product of digits of that\n",
        "number."
      ]
    },
    {
      "cell_type": "code",
      "metadata": {
        "id": "8mGQmiaHg6mJ",
        "colab_type": "code",
        "colab": {}
      },
      "source": [
        "def prodDigits(n):\n",
        "  prod=1\n",
        "  temp=int(n)\n",
        "  while temp !=0:\n",
        "    prod=prod*(temp%10)\n",
        "    temp//=10\n",
        "  return prod"
      ],
      "execution_count": 0,
      "outputs": []
    },
    {
      "cell_type": "code",
      "metadata": {
        "id": "wiC1WGFXhyyi",
        "colab_type": "code",
        "outputId": "6598af3e-5241-438e-d562-1b2b469b686e",
        "colab": {
          "base_uri": "https://localhost:8080/",
          "height": 51
        }
      },
      "source": [
        "num=int(input(\"Enter your number whoes product of digit you want\"))\n",
        "print(\"The Product of digit of {} is {} \".format(num,prodDigits(num)))"
      ],
      "execution_count": 10,
      "outputs": [
        {
          "output_type": "stream",
          "text": [
            "Enter your number whoes product of digit you want341\n",
            "The Product of digit of 341 is 12 \n"
          ],
          "name": "stdout"
        }
      ]
    },
    {
      "cell_type": "markdown",
      "metadata": {
        "id": "FjopX0-eg6y-",
        "colab_type": "text"
      },
      "source": [
        "8. If all digits of a number n are multiplied by each other repeating with the product, the one\n",
        "digit number obtained at last is called the multiplicative digital root of n. The number of\n",
        "times digits need to be multiplied to reach one digit is called the multiplicative\n",
        "persistance of n.\n",
        "Example: 86 -> 48 -> 32 -> 6 (MDR 6, MPersistence 3)\n",
        " 341 -> 12->2 (MDR 2, MPersistence 2)\n",
        "Using the function prodDigits() of previous exercise write functions MDR() and\n",
        "MPersistence() that input a number and return its multiplicative digital root and\n",
        "multiplicative persistence respectively"
      ]
    },
    {
      "cell_type": "code",
      "metadata": {
        "id": "dFh63s3Mg_Uo",
        "colab_type": "code",
        "outputId": "739e6c93-e3d1-4dd1-be7b-bc18e2e1364f",
        "colab": {
          "base_uri": "https://localhost:8080/",
          "height": 51
        }
      },
      "source": [
        "num=int(input(\"Enter any number you want to enter: \"))\n",
        "count=0\n",
        "temp=num\n",
        "while len(str(temp))>1:\n",
        "  count+=1\n",
        "  temp=prodDigits(temp)\n",
        "print(\"MDR {}, MPersistence {}\".format(temp,count))"
      ],
      "execution_count": 11,
      "outputs": [
        {
          "output_type": "stream",
          "text": [
            "Enter any number you want to enter: 86\n",
            "MDR 6, MPersistence 3\n"
          ],
          "name": "stdout"
        }
      ]
    },
    {
      "cell_type": "markdown",
      "metadata": {
        "id": "POtwCHCgg_nA",
        "colab_type": "text"
      },
      "source": [
        "9. Write a function sumPdivisors() that finds the sum of proper divisors of a number. Proper\n",
        "divisors of a number are those numbers by which the number is divisible, except the\n",
        "number itself. For example proper divisors of 36 are 1, 2, 3, 4, 6, 9, 18"
      ]
    },
    {
      "cell_type": "code",
      "metadata": {
        "id": "w6zYhTUIhFaw",
        "colab_type": "code",
        "colab": {}
      },
      "source": [
        "def sumPdivisors(num):\n",
        "  l1=[]\n",
        "  l1.append(1)\n",
        "  for i in range(2,int(math.sqrt(num)),1):\n",
        "    if num%i==0:\n",
        "      l1.append(i)\n",
        "      l1.append(num//i)\n",
        "  l1.sort()\n",
        "  return l1\n",
        " "
      ],
      "execution_count": 0,
      "outputs": []
    },
    {
      "cell_type": "code",
      "metadata": {
        "id": "DMIUCwhHixCI",
        "colab_type": "code",
        "outputId": "1101f5c4-f6d4-483d-d1f7-c1d69bf0df72",
        "colab": {
          "base_uri": "https://localhost:8080/",
          "height": 51
        }
      },
      "source": [
        "num = int (input(\"Enter your number Woes proper divesor you want:\"   ))\n",
        "print(\"Proper divisors of {} is {} \".format(num,sumPdivisors(num)))"
      ],
      "execution_count": 13,
      "outputs": [
        {
          "output_type": "stream",
          "text": [
            "Enter your number Woes proper divesor you want:36\n",
            "Proper divisors of 36 is [1, 2, 3, 4, 9, 12, 18] \n"
          ],
          "name": "stdout"
        }
      ]
    },
    {
      "cell_type": "markdown",
      "metadata": {
        "id": "DvMJoXj3hFox",
        "colab_type": "text"
      },
      "source": [
        "10. A number is called perfect if the sum of proper divisors of that number is equal to the\n",
        "number. For example 28 is perfect number, since 1+2+4+7+14=28. Write a program to\n",
        "print all the perfect numbers in a given range"
      ]
    },
    {
      "cell_type": "code",
      "metadata": {
        "id": "jgeocdrwhI_U",
        "colab_type": "code",
        "outputId": "7e360480-1769-4614-ff94-a8f83f6d4563",
        "colab": {
          "base_uri": "https://localhost:8080/",
          "height": 51
        }
      },
      "source": [
        "num=int(input(\"enter your range: \"))\n",
        "l1=[]\n",
        "for n in range(1,num):\n",
        "  sum=1\n",
        "  for j in range(2,int(math.sqrt(n))+1,1):\n",
        "    if n%j==0:\n",
        "      sum+=j+n//j\n",
        "  if sum ==n:\n",
        "    l1.append(n)\n",
        "print(\"The list of perfect sum in given range is {}\".format(l1))\n",
        "\n"
      ],
      "execution_count": 14,
      "outputs": [
        {
          "output_type": "stream",
          "text": [
            "enter your range: 30\n",
            "The list of perfect sum in given range is [1, 6, 28]\n"
          ],
          "name": "stdout"
        }
      ]
    },
    {
      "cell_type": "markdown",
      "metadata": {
        "id": "BiYAiOo0hJPK",
        "colab_type": "text"
      },
      "source": [
        "11. Two different numbers are called amicable numbers if the sum of the proper divisors of\n",
        "each is equal to the other number. For example 220 and 284 are amicable numbers.Sum of proper divisors of 220 = 1+2+4+5+10+11+20+22+44+55+110 = 284\n",
        "Sum of proper divisors of 284 = 1+2+4+71+142 = 220\n",
        "Write a function to print pairs of amicable numbers in a range"
      ]
    },
    {
      "cell_type": "code",
      "metadata": {
        "id": "CZ_3KKXkhP8j",
        "colab_type": "code",
        "colab": {}
      },
      "source": [
        "def isAmicable(num1,num2):\n",
        "  l2=sumPdivisors(num1)\n",
        "  l3=sumPdivisors(num2)\n",
        "  sum1,sum2=0,0\n",
        "  for ele in l2:\n",
        "    sum1+=ele\n",
        "  for ele in l3:\n",
        "    sum2+=ele\n",
        "  if sum1==num2 and  sum2 == num1:\n",
        "    print(\"the number {} and {} is amicable\".format(num1,num2))\n",
        "  else:\n",
        "    print (\"the number {} and {} is not amicable\".format(num1,num2))"
      ],
      "execution_count": 0,
      "outputs": []
    },
    {
      "cell_type": "code",
      "metadata": {
        "id": "iheMV05Fj8hr",
        "colab_type": "code",
        "outputId": "dab3f9b2-046e-4344-f84b-6157bd380de3",
        "colab": {
          "base_uri": "https://localhost:8080/",
          "height": 68
        }
      },
      "source": [
        "num1=int(input(\"Enter first number\"))\n",
        "num2=int(input(\"Enter second number\"))\n",
        "isAmicable(num1,num2)\n"
      ],
      "execution_count": 16,
      "outputs": [
        {
          "output_type": "stream",
          "text": [
            "Enter first number220\n",
            "Enter second number284\n",
            "the number 220 and 284 is amicable\n"
          ],
          "name": "stdout"
        }
      ]
    },
    {
      "cell_type": "markdown",
      "metadata": {
        "id": "N6I53eHjhQHO",
        "colab_type": "text"
      },
      "source": [
        "12. Write a program which can filter odd numbers in a list by using filter function"
      ]
    },
    {
      "cell_type": "code",
      "metadata": {
        "id": "Q8QD-xMehUfJ",
        "colab_type": "code",
        "outputId": "bb753245-e073-407b-f3bf-bade929ff218",
        "colab": {
          "base_uri": "https://localhost:8080/",
          "height": 153
        }
      },
      "source": [
        "#This block is used to take input in list \n",
        "num=int(input(\"Enter the no of element in list: \"))\n",
        "print(\"please enter {} number in list:\".format(num))\n",
        "l1=[]\n",
        "for i in range(num):\n",
        "  l1.append(int(input()))"
      ],
      "execution_count": 17,
      "outputs": [
        {
          "output_type": "stream",
          "text": [
            "Enter the no of element in list: 6\n",
            "please enter 6 number in list:\n",
            "45\n",
            "3\n",
            "67\n",
            "2\n",
            "9\n",
            "31\n"
          ],
          "name": "stdout"
        }
      ]
    },
    {
      "cell_type": "code",
      "metadata": {
        "id": "16CkKgXY3NGt",
        "colab_type": "code",
        "outputId": "cb21e1c7-b8e2-4f01-fae4-16e585b458ef",
        "colab": {
          "base_uri": "https://localhost:8080/",
          "height": 34
        }
      },
      "source": [
        "l2=list(filter(lambda x:(x%2!=0),l1))\n",
        "print(\"The odd number in your list are {}\".format(l2))"
      ],
      "execution_count": 21,
      "outputs": [
        {
          "output_type": "stream",
          "text": [
            "The odd number in your list are [45, 3, 67, 9, 31]\n"
          ],
          "name": "stdout"
        }
      ]
    },
    {
      "cell_type": "markdown",
      "metadata": {
        "id": "yr6kuEKjhYLg",
        "colab_type": "text"
      },
      "source": [
        "13. Write a program which can map() to make a list whose elements are cube of elements in\n",
        "a given list"
      ]
    },
    {
      "cell_type": "code",
      "metadata": {
        "id": "KfXrzHqhhZz-",
        "colab_type": "code",
        "outputId": "d77f583f-d36b-43e9-85cb-daeab9b5b63b",
        "colab": {
          "base_uri": "https://localhost:8080/",
          "height": 34
        }
      },
      "source": [
        "l3=list(map(lambda x: (x**3),l1))\n",
        "print(\"The cube of given list is {}\".format(l3))"
      ],
      "execution_count": 22,
      "outputs": [
        {
          "output_type": "stream",
          "text": [
            "The cube of given list is [91125, 27, 300763, 8, 729, 29791]\n"
          ],
          "name": "stdout"
        }
      ]
    },
    {
      "cell_type": "markdown",
      "metadata": {
        "id": "1Btl5bhyhaBz",
        "colab_type": "text"
      },
      "source": [
        "14. Write a program which can map() and filter() to make a list whose elements are cube of\n",
        "even number in a given list"
      ]
    },
    {
      "cell_type": "code",
      "metadata": {
        "id": "rS0pYUHUheAb",
        "colab_type": "code",
        "outputId": "e0901c44-2301-494b-c011-8c9073bae5ea",
        "colab": {
          "base_uri": "https://localhost:8080/",
          "height": 34
        }
      },
      "source": [
        "l2=list(filter(lambda x:(x%2==0),l1))\n",
        "l3=list(map(lambda x: (x**3),l2))\n",
        "print(\"The list of elements are cube of even number in a given list {}\".format(l3))"
      ],
      "execution_count": 23,
      "outputs": [
        {
          "output_type": "stream",
          "text": [
            "The list of elements are cube of even number in a given list [8]\n"
          ],
          "name": "stdout"
        }
      ]
    }
  ]
}